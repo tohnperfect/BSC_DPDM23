{
  "nbformat": 4,
  "nbformat_minor": 0,
  "metadata": {
    "colab": {
      "provenance": [],
      "toc_visible": true,
      "authorship_tag": "ABX9TyOlXx6KkqgnZYaPrcIrn/tz",
      "include_colab_link": true
    },
    "kernelspec": {
      "name": "python3",
      "display_name": "Python 3"
    },
    "language_info": {
      "name": "python"
    }
  },
  "cells": [
    {
      "cell_type": "markdown",
      "metadata": {
        "id": "view-in-github",
        "colab_type": "text"
      },
      "source": [
        "<a href=\"https://colab.research.google.com/github/tohnperfect/BSC_DPDM23/blob/main/Data_Preprocessing.ipynb\" target=\"_parent\"><img src=\"https://colab.research.google.com/assets/colab-badge.svg\" alt=\"Open In Colab\"/></a>"
      ]
    },
    {
      "cell_type": "markdown",
      "source": [
        "# ข้อมูลบางส่วนมีค่าตัวแปรบางตัวที่ไม่ทราบค่า (Missing Data)"
      ],
      "metadata": {
        "id": "lWf8dxLCQK1m"
      }
    },
    {
      "cell_type": "markdown",
      "source": [
        "## Example"
      ],
      "metadata": {
        "id": "4L73JhqGQngL"
      }
    },
    {
      "cell_type": "markdown",
      "source": [
        "## Fix"
      ],
      "metadata": {
        "id": "prh1BmpcQsil"
      }
    },
    {
      "cell_type": "markdown",
      "source": [
        "# ข้อมูลมีความซ้ำซ้อน (Duplicate Data)"
      ],
      "metadata": {
        "id": "kmBD1zE_QSeH"
      }
    },
    {
      "cell_type": "markdown",
      "source": [
        "## Example"
      ],
      "metadata": {
        "id": "ruFadU49Q1lc"
      }
    },
    {
      "cell_type": "markdown",
      "source": [
        "## Fix"
      ],
      "metadata": {
        "id": "KAzVw8omQ4Tc"
      }
    },
    {
      "cell_type": "code",
      "source": [],
      "metadata": {
        "id": "5ylrvOHuQxRs"
      },
      "execution_count": null,
      "outputs": []
    },
    {
      "cell_type": "markdown",
      "source": [
        "# ข้อมูลบางตัวในชุดข้อมูลมีลักษณะผิดปกติหรือแตกต่างจากข้อมูลส่วนใหญ่ (Outlier)"
      ],
      "metadata": {
        "id": "GlnaVednQZ2i"
      }
    },
    {
      "cell_type": "markdown",
      "source": [
        "## Example"
      ],
      "metadata": {
        "id": "asy8RImzQ8Jy"
      }
    },
    {
      "cell_type": "markdown",
      "source": [
        "## Fix"
      ],
      "metadata": {
        "id": "AZC8lgjiQ927"
      }
    },
    {
      "cell_type": "markdown",
      "source": [
        "# ค่าตัวแปรบางตัวที่ไม่ถูกต้อง (Erroneous Data)"
      ],
      "metadata": {
        "id": "E5ChKb1TPet8"
      }
    },
    {
      "cell_type": "markdown",
      "source": [
        "## Example"
      ],
      "metadata": {
        "id": "H7P2EYrGQ_Yp"
      }
    },
    {
      "cell_type": "markdown",
      "source": [
        "## Fix"
      ],
      "metadata": {
        "id": "NUgO4fRpRBqH"
      }
    },
    {
      "cell_type": "markdown",
      "source": [
        "# ข้อมูลมีค่าตัวแปรไม่สอดคล้องซึ่งกันและกัน (Inconsistent)"
      ],
      "metadata": {
        "id": "_s6K1cCgQhm6"
      }
    },
    {
      "cell_type": "markdown",
      "source": [
        "## Example"
      ],
      "metadata": {
        "id": "ZotQHar0RCxA"
      }
    },
    {
      "cell_type": "markdown",
      "source": [
        "## Fix"
      ],
      "metadata": {
        "id": "uuo5_wtLRERZ"
      }
    },
    {
      "cell_type": "code",
      "execution_count": null,
      "metadata": {
        "id": "t-0PtiONPICp"
      },
      "outputs": [],
      "source": []
    }
  ]
}